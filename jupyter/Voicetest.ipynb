{
 "cells": [
  {
   "cell_type": "markdown",
   "id": "51fb5033-31a4-4780-acc7-e6ac4aa92075",
   "metadata": {},
   "source": [
    "# Voice Changer"
   ]
  },
  {
   "cell_type": "code",
   "execution_count": 79,
   "id": "73c00306-114d-4ffe-9705-6ba73673d20c",
   "metadata": {},
   "outputs": [],
   "source": [
    "import sounddevice as sd\n",
    "import numpy as np\n",
    "import scipy.signal\n"
   ]
  },
  {
   "cell_type": "markdown",
   "id": "59eae15a-bbcb-4dc4-9189-9d95b3309d52",
   "metadata": {},
   "source": [
    "# Device check 録音可能なデバイスを探します"
   ]
  },
  {
   "cell_type": "code",
   "execution_count": 80,
   "id": "5e3720f9-0d26-4f90-9b44-efd4246691ec",
   "metadata": {
    "tags": []
   },
   "outputs": [
    {
     "name": "stdout",
     "output_type": "stream",
     "text": [
      "Device ID: 0, Name: Microsoft 声音映射器 - Output, Input Channels: 0, Output Channels: 2\n",
      "Device ID: 1, Name: 耳机 (Conexant ISST Audio), Input Channels: 0, Output Channels: 2\n",
      "Device ID: 2, Name: 扬声器 (Conexant ISST Audio), Input Channels: 0, Output Channels: 2\n",
      "Device ID: 3, Name: 主声音驱动程序, Input Channels: 0, Output Channels: 2\n",
      "Device ID: 4, Name: 耳机 (Conexant ISST Audio), Input Channels: 0, Output Channels: 2\n",
      "Device ID: 5, Name: 扬声器 (Conexant ISST Audio), Input Channels: 0, Output Channels: 2\n",
      "Device ID: 6, Name: 扬声器 (Conexant ISST Audio), Input Channels: 0, Output Channels: 2\n",
      "Device ID: 7, Name: 耳机 (Conexant ISST Audio), Input Channels: 0, Output Channels: 2\n",
      "Device ID: 8, Name: Headphones (Conexant ISST Audio headphone), Input Channels: 0, Output Channels: 2\n",
      "Device ID: 9, Name: マイク配列 (Conexant ISST Audio capture), Input Channels: 4, Output Channels: 0\n",
      "Device ID: 10, Name: Output 1 (Conexant ISST Audio output), Input Channels: 0, Output Channels: 2\n",
      "Device ID: 11, Name: Output 2 (Conexant ISST Audio output), Input Channels: 0, Output Channels: 8\n",
      "Device ID: 12, Name: Input (Conexant ISST Audio output), Input Channels: 2, Output Channels: 0\n",
      "Device ID: 13, Name: ヘッドセット (@System32\\drivers\\bthhfenum.sys,#2;%1 Hands-Free%0\n",
      ";(nat-01)), Input Channels: 0, Output Channels: 1\n",
      "Device ID: 14, Name: ヘッドセット (@System32\\drivers\\bthhfenum.sys,#2;%1 Hands-Free%0\n",
      ";(nat-01)), Input Channels: 1, Output Channels: 0\n",
      "Device ID: 15, Name: ヘッドホン (), Input Channels: 0, Output Channels: 2\n"
     ]
    }
   ],
   "source": [
    "import sounddevice as sd\n",
    "\n",
    "devices = sd.query_devices()\n",
    "for idx, device in enumerate(devices):\n",
    "    print(f\"Device ID: {idx}, Name: {device['name']}, Input Channels: {device['max_input_channels']}, Output Channels: {device['max_output_channels']}\")\n"
   ]
  },
  {
   "cell_type": "code",
   "execution_count": 81,
   "id": "fe6d9705-04c1-4e57-bbba-afc806fd39a9",
   "metadata": {},
   "outputs": [
    {
     "name": "stdout",
     "output_type": "stream",
     "text": [
      "48000.0\n",
      "48000.0\n"
     ]
    }
   ],
   "source": [
    "info_input = sd.query_devices(input_device_id, 'input')\n",
    "info_output = sd.query_devices(output_device_id, 'output')\n",
    "print(info_input['default_samplerate'])\n",
    "print(info_output['default_samplerate'])\n"
   ]
  },
  {
   "cell_type": "code",
   "execution_count": 82,
   "id": "ffd7947e-19cc-4733-944a-d20690854d5d",
   "metadata": {},
   "outputs": [
    {
     "name": "stdout",
     "output_type": "stream",
     "text": [
      "{'name': 'マイク配列 (Conexant ISST Audio capture)', 'index': 9, 'hostapi': 4, 'max_input_channels': 4, 'max_output_channels': 0, 'default_low_input_latency': 0.01, 'default_low_output_latency': 0.01, 'default_high_input_latency': 0.04, 'default_high_output_latency': 0.04, 'default_samplerate': 48000.0}\n",
      "{'name': '耳机 (Conexant ISST Audio)', 'index': 7, 'hostapi': 3, 'max_input_channels': 0, 'max_output_channels': 2, 'default_low_input_latency': 0.0, 'default_low_output_latency': 0.003, 'default_high_input_latency': 0.0, 'default_high_output_latency': 0.01, 'default_samplerate': 48000.0}\n"
     ]
    }
   ],
   "source": [
    "input_info = sd.query_devices(input_device_id, 'input')\n",
    "output_info = sd.query_devices(output_device_id, 'output')\n",
    "print(input_info)\n",
    "print(output_info)\n"
   ]
  },
  {
   "cell_type": "markdown",
   "id": "974e4f4a-286e-40f5-8264-dd9bdbbc3b6d",
   "metadata": {},
   "source": [
    "# サンプルレートを調べます(Check sampling ratiio)"
   ]
  },
  {
   "cell_type": "code",
   "execution_count": 83,
   "id": "383d4a05-e4ea-459d-a996-64957ae06cf5",
   "metadata": {},
   "outputs": [
    {
     "name": "stdout",
     "output_type": "stream",
     "text": [
      "Input device supported samplerates:\n",
      "0.01 0.04\n",
      "Output device supported samplerates:\n",
      "0.003 0.01\n"
     ]
    }
   ],
   "source": [
    "input_device_info = sd.query_devices(input_device_id, 'input')\n",
    "output_device_info = sd.query_devices(output_device_id, 'output')\n",
    "\n",
    "print(\"Input device supported samplerates:\")\n",
    "print(input_device_info['default_low_input_latency'], input_device_info['default_high_input_latency'])\n",
    "\n",
    "print(\"Output device supported samplerates:\")\n",
    "print(output_device_info['default_low_output_latency'], output_device_info['default_high_output_latency'])\n"
   ]
  },
  {
   "cell_type": "markdown",
   "id": "b81fc29b-d975-4018-887b-7da09b6162db",
   "metadata": {},
   "source": [
    "# APIチェック （API check properly)"
   ]
  },
  {
   "cell_type": "code",
   "execution_count": 84,
   "id": "41c594a2-f6f0-453f-96fe-e32d8be83ae2",
   "metadata": {},
   "outputs": [
    {
     "name": "stdout",
     "output_type": "stream",
     "text": [
      "ID: 0, Name: MME\n",
      "ID: 1, Name: Windows DirectSound\n",
      "ID: 2, Name: ASIO\n",
      "ID: 3, Name: Windows WASAPI\n",
      "ID: 4, Name: Windows WDM-KS\n"
     ]
    }
   ],
   "source": [
    "import sounddevice as sd\n",
    "\n",
    "host_apis = sd.query_hostapis()\n",
    "for idx, host_api in enumerate(host_apis):\n",
    "    print(f\"ID: {idx}, Name: {host_api['name']}\")\n"
   ]
  },
  {
   "cell_type": "markdown",
   "id": "d3b96673-c859-4f13-8606-e662bfcc3921",
   "metadata": {},
   "source": [
    "# API固定テスト（set API)"
   ]
  },
  {
   "cell_type": "code",
   "execution_count": 85,
   "id": "323179d7-afec-492c-b233-28b9403276ac",
   "metadata": {},
   "outputs": [
    {
     "name": "stdout",
     "output_type": "stream",
     "text": [
      "Device ID: 3, Name: 主声音驱动程序\n",
      "Device ID: 4, Name: 耳机 (Conexant ISST Audio)\n",
      "Device ID: 5, Name: 扬声器 (Conexant ISST Audio)\n"
     ]
    }
   ],
   "source": [
    "host_api_id = 1 # 例として1を使用します。実際のIDに置き換えてください。\n",
    "\n",
    "devices = sd.query_devices()\n",
    "input_device_id = None\n",
    "output_device_id = None\n",
    "\n",
    "for i, device in enumerate(devices):\n",
    "    if device['hostapi'] == host_api_id:\n",
    "        print(f\"Device ID: {i}, Name: {device['name']}\")\n",
    "        # 入力および出力デバイスIDを適切に設定します。\n"
   ]
  },
  {
   "cell_type": "code",
   "execution_count": 86,
   "id": "c56ee73b-7496-47bc-8184-c26fbafe1032",
   "metadata": {},
   "outputs": [
    {
     "name": "stdout",
     "output_type": "stream",
     "text": [
      "Input device max input channels: 4\n",
      "Output device max output channels: 2\n"
     ]
    }
   ],
   "source": [
    "import sounddevice as sd\n",
    "\n",
    "input_device_id = 9\n",
    "output_device_id = 7\n",
    "\n",
    "input_info = sd.query_devices(input_device_id)\n",
    "output_info = sd.query_devices(output_device_id)\n",
    "\n",
    "print(f\"Input device max input channels: {input_info['max_input_channels']}\")\n",
    "print(f\"Output device max output channels: {output_info['max_output_channels']}\")\n"
   ]
  },
  {
   "cell_type": "code",
   "execution_count": 87,
   "id": "cfc4bc6f-3d08-4ba0-8c28-7848aaf44503",
   "metadata": {},
   "outputs": [
    {
     "name": "stdout",
     "output_type": "stream",
     "text": [
      "Device ID: 0, Name: Microsoft 声音映射器 - Output\n",
      "  Max input channels: 0\n",
      "  Max output channels: 2\n",
      "Device ID: 1, Name: 耳机 (Conexant ISST Audio)\n",
      "  Max input channels: 0\n",
      "  Max output channels: 2\n",
      "Device ID: 2, Name: 扬声器 (Conexant ISST Audio)\n",
      "  Max input channels: 0\n",
      "  Max output channels: 2\n",
      "Device ID: 3, Name: 主声音驱动程序\n",
      "  Max input channels: 0\n",
      "  Max output channels: 2\n",
      "Device ID: 4, Name: 耳机 (Conexant ISST Audio)\n",
      "  Max input channels: 0\n",
      "  Max output channels: 2\n",
      "Device ID: 5, Name: 扬声器 (Conexant ISST Audio)\n",
      "  Max input channels: 0\n",
      "  Max output channels: 2\n",
      "Device ID: 6, Name: 扬声器 (Conexant ISST Audio)\n",
      "  Max input channels: 0\n",
      "  Max output channels: 2\n",
      "Device ID: 7, Name: 耳机 (Conexant ISST Audio)\n",
      "  Max input channels: 0\n",
      "  Max output channels: 2\n",
      "Device ID: 8, Name: Headphones (Conexant ISST Audio headphone)\n",
      "  Max input channels: 0\n",
      "  Max output channels: 2\n",
      "Device ID: 9, Name: マイク配列 (Conexant ISST Audio capture)\n",
      "  Max input channels: 4\n",
      "  Max output channels: 0\n",
      "Device ID: 10, Name: Output 1 (Conexant ISST Audio output)\n",
      "  Max input channels: 0\n",
      "  Max output channels: 2\n",
      "Device ID: 11, Name: Output 2 (Conexant ISST Audio output)\n",
      "  Max input channels: 0\n",
      "  Max output channels: 8\n",
      "Device ID: 12, Name: Input (Conexant ISST Audio output)\n",
      "  Max input channels: 2\n",
      "  Max output channels: 0\n",
      "Device ID: 13, Name: ヘッドセット (@System32\\drivers\\bthhfenum.sys,#2;%1 Hands-Free%0\n",
      ";(nat-01))\n",
      "  Max input channels: 0\n",
      "  Max output channels: 1\n",
      "Device ID: 14, Name: ヘッドセット (@System32\\drivers\\bthhfenum.sys,#2;%1 Hands-Free%0\n",
      ";(nat-01))\n",
      "  Max input channels: 1\n",
      "  Max output channels: 0\n",
      "Device ID: 15, Name: ヘッドホン ()\n",
      "  Max input channels: 0\n",
      "  Max output channels: 2\n"
     ]
    }
   ],
   "source": [
    "import sounddevice as sd\n",
    "\n",
    "# デバイス情報の取得\n",
    "devices = sd.query_devices()\n",
    "\n",
    "# 入力と出力デバイスの確認\n",
    "for i, device in enumerate(devices):\n",
    "    print(f\"Device ID: {i}, Name: {device['name']}\")\n",
    "    print(f\"  Max input channels: {device['max_input_channels']}\")\n",
    "    print(f\"  Max output channels: {device['max_output_channels']}\")\n"
   ]
  },
  {
   "cell_type": "markdown",
   "id": "f93c267c-a4ec-4a23-81a2-ec67bff30063",
   "metadata": {},
   "source": [
    "# 入出力テスト(I/O test)"
   ]
  },
  {
   "cell_type": "code",
   "execution_count": 89,
   "id": "78833ecc-9d55-44df-b44b-784b1616b68f",
   "metadata": {},
   "outputs": [
    {
     "name": "stdout",
     "output_type": "stream",
     "text": [
      "Press Enter to stop...\n"
     ]
    },
    {
     "name": "stdin",
     "output_type": "stream",
     "text": [
      " \n"
     ]
    }
   ],
   "source": [
    "import sounddevice as sd\n",
    "\n",
    "# 上記の結果から選択したデバイスID\n",
    "input_device_id = 9 # 例として4を使用します。実際の入力デバイスIDに置き換えてください。\n",
    "output_device_id = 7 # 例として5を使用します。実際の出力デバイスIDに置き換えてください。\n",
    "\n",
    "# マイクとヘッドセットのデフォルトのサンプルレートを取得\n",
    "input_samplerate = sd.query_devices(input_device_id)['default_samplerate']\n",
    "output_samplerate = sd.query_devices(output_device_id)['default_samplerate']\n",
    "\n",
    "channels = 2         # 2 チャンネル\n",
    "\n",
    "# 入力コールバック関数\n",
    "def input_callback(indata, frames, time, status):\n",
    "    output_stream.write(indata) # 入力データを出力ストリームに書き込む\n",
    "\n",
    "# 出力ストリーム\n",
    "output_stream = sd.OutputStream(device=output_device_id, channels=channels, samplerate=output_samplerate)\n",
    "\n",
    "# 入力ストリーム\n",
    "with sd.InputStream(device=input_device_id, channels=channels, samplerate=input_samplerate, callback=input_callback):\n",
    "    output_stream.start() # 出力ストリームを開始\n",
    "    print(\"Press Enter to stop...\")\n",
    "    input()\n",
    "\n",
    "output_stream.stop()\n"
   ]
  },
  {
   "cell_type": "markdown",
   "id": "bf5833e0-c95a-48a0-a9a0-2920d9dfa785",
   "metadata": {
    "tags": []
   },
   "source": [
    "# Voice test"
   ]
  },
  {
   "cell_type": "markdown",
   "id": "2da625b0-7e5e-451d-8ae5-7d0e52730b57",
   "metadata": {},
   "source": [
    "## ノイズ除去処理"
   ]
  },
  {
   "cell_type": "code",
   "execution_count": 90,
   "id": "b37411e1-3661-4dad-9c49-872745e827f1",
   "metadata": {
    "tags": []
   },
   "outputs": [
    {
     "data": {
      "application/vnd.jupyter.widget-view+json": {
       "model_id": "270e9ca7696041d5a61bc372c817f23a",
       "version_major": 2,
       "version_minor": 0
      },
      "text/plain": [
       "FloatSlider(value=0.0, description='Pitch Shift:', max=24.0, min=-12.0, step=1.0)"
      ]
     },
     "metadata": {},
     "output_type": "display_data"
    },
    {
     "name": "stdout",
     "output_type": "stream",
     "text": [
      "Press Enter to stop...\n"
     ]
    },
    {
     "name": "stdin",
     "output_type": "stream",
     "text": [
      " \n"
     ]
    }
   ],
   "source": [
    "import sounddevice as sd\n",
    "import numpy as np\n",
    "from scipy.fftpack import fft, ifft\n",
    "from scipy.signal import hamming\n",
    "import ipywidgets as widgets\n",
    "from IPython.display import display\n",
    "\n",
    "# ピッチシフトの関数\n",
    "def pitch_shift(data, shift):\n",
    "    transformed = fft(data)\n",
    "    return np.real(ifft(np.roll(transformed, shift)))\n",
    "\n",
    "# 入力コールバック関数\n",
    "def input_callback(indata, frames, time, status):\n",
    "    global pitch_shift_value\n",
    "    shifted_data = pitch_shift(indata[:, 0], int(pitch_shift_value * frames))\n",
    "    output_stream.write(np.ascontiguousarray(shifted_data.reshape(-1, 1))) # ここで変換\n",
    "\n",
    "\n",
    "# スライドバーの値が変更されたときのコールバック関数\n",
    "def on_value_change(change):\n",
    "    global pitch_shift_value\n",
    "    pitch_shift_value = change['new']\n",
    "\n",
    "# スライドバーの作成と表示\n",
    "pitch_slider = widgets.FloatSlider(value=0, min=-12, max=24, step=1, description='Pitch Shift:')\n",
    "pitch_slider.observe(on_value_change, names='value')\n",
    "display(pitch_slider)\n",
    "\n",
    "input_device_id = 9\n",
    "output_device_id = 7\n",
    "input_samplerate = sd.query_devices(input_device_id)['default_samplerate']\n",
    "output_samplerate = sd.query_devices(output_device_id)['default_samplerate']\n",
    "channels = 2\n",
    "pitch_shift_value = 0\n",
    "buffer_size = 4096 # サンプルの個数\n",
    "\n",
    "output_stream = sd.OutputStream(device=output_device_id, channels=1, samplerate=output_samplerate)\n",
    "\n",
    "with sd.InputStream(device=input_device_id, channels=channels, samplerate=input_samplerate, callback=input_callback):\n",
    "    output_stream.start()\n",
    "    print(\"Press Enter to stop...\")\n",
    "    input()\n",
    "\n",
    "output_stream.stop()\n"
   ]
  },
  {
   "cell_type": "code",
   "execution_count": null,
   "id": "ddfff38a-b183-4ded-b46a-f1c073640491",
   "metadata": {},
   "outputs": [],
   "source": []
  }
 ],
 "metadata": {
  "kernelspec": {
   "display_name": "Python 3 (ipykernel)",
   "language": "python",
   "name": "python3"
  },
  "language_info": {
   "codemirror_mode": {
    "name": "ipython",
    "version": 3
   },
   "file_extension": ".py",
   "mimetype": "text/x-python",
   "name": "python",
   "nbconvert_exporter": "python",
   "pygments_lexer": "ipython3",
   "version": "3.7.16"
  }
 },
 "nbformat": 4,
 "nbformat_minor": 5
}
